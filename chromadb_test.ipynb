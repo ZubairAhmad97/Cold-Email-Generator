{
 "cells": [
  {
   "cell_type": "code",
   "execution_count": 1,
   "metadata": {},
   "outputs": [],
   "source": [
    "import chromadb\n",
    "\n",
    "client = chromadb.Client()\n",
    "collection = client.create_collection(name=\"my_collection\")"
   ]
  },
  {
   "cell_type": "code",
   "execution_count": 2,
   "metadata": {},
   "outputs": [
    {
     "name": "stderr",
     "output_type": "stream",
     "text": [
      "/home/mirafra/.cache/chroma/onnx_models/all-MiniLM-L6-v2/onnx.tar.gz: 100%|██████████| 79.3M/79.3M [01:13<00:00, 1.14MiB/s]\n"
     ]
    }
   ],
   "source": [
    "collection.add(\n",
    "    documents=[\n",
    "        \"This document is about China\",\n",
    "        \"This document is about Delhi\",\n",
    "        \"This document is about Mumbai\"\n",
    "    ],\n",
    "    ids = ['id1', 'id2', 'id3']\n",
    ")"
   ]
  },
  {
   "cell_type": "code",
   "execution_count": 3,
   "metadata": {},
   "outputs": [
    {
     "data": {
      "text/plain": [
       "{'ids': ['id1', 'id2', 'id3'],\n",
       " 'embeddings': None,\n",
       " 'metadatas': [None, None, None],\n",
       " 'documents': ['This document is about China',\n",
       "  'This document is about Delhi',\n",
       "  'This document is about Mumbai'],\n",
       " 'uris': None,\n",
       " 'data': None,\n",
       " 'included': ['metadatas', 'documents']}"
      ]
     },
     "execution_count": 3,
     "metadata": {},
     "output_type": "execute_result"
    }
   ],
   "source": [
    "all_docs = collection.get()\n",
    "all_docs"
   ]
  },
  {
   "cell_type": "code",
   "execution_count": 4,
   "metadata": {},
   "outputs": [
    {
     "data": {
      "text/plain": [
       "{'ids': ['id1'],\n",
       " 'embeddings': None,\n",
       " 'metadatas': [None],\n",
       " 'documents': ['This document is about China'],\n",
       " 'uris': None,\n",
       " 'data': None,\n",
       " 'included': ['metadatas', 'documents']}"
      ]
     },
     "execution_count": 4,
     "metadata": {},
     "output_type": "execute_result"
    }
   ],
   "source": [
    "documents = collection.get(ids=[\"id1\"])\n",
    "documents"
   ]
  },
  {
   "cell_type": "code",
   "execution_count": 6,
   "metadata": {},
   "outputs": [
    {
     "data": {
      "text/plain": [
       "{'ids': [['id3', 'id1', 'id2']],\n",
       " 'distances': [[1.6456025838851929, 1.779161810874939, 1.867558479309082]],\n",
       " 'metadatas': [[None, None, None]],\n",
       " 'embeddings': None,\n",
       " 'documents': [['This document is about Mumbai',\n",
       "   'This document is about China',\n",
       "   'This document is about Delhi']],\n",
       " 'uris': None,\n",
       " 'data': None,\n",
       " 'included': ['metadatas', 'documents', 'distances']}"
      ]
     },
     "execution_count": 6,
     "metadata": {},
     "output_type": "execute_result"
    }
   ],
   "source": [
    "results = collection.query(\n",
    "    query_texts=['Query is about big apple'],\n",
    "    n_results=3\n",
    ")\n",
    "results"
   ]
  },
  {
   "cell_type": "code",
   "execution_count": 7,
   "metadata": {},
   "outputs": [
    {
     "data": {
      "text/plain": [
       "{'ids': [],\n",
       " 'embeddings': None,\n",
       " 'metadatas': [],\n",
       " 'documents': [],\n",
       " 'uris': None,\n",
       " 'data': None,\n",
       " 'included': ['metadatas', 'documents']}"
      ]
     },
     "execution_count": 7,
     "metadata": {},
     "output_type": "execute_result"
    }
   ],
   "source": [
    "collection.delete(ids=all_docs['ids'])\n",
    "collection.get()"
   ]
  },
  {
   "cell_type": "code",
   "execution_count": 8,
   "metadata": {},
   "outputs": [],
   "source": [
    "collection.add(\n",
    "    documents=[\n",
    "        \"This document is about China\",\n",
    "        \"This document is about Delhi\",\n",
    "        \"This document is about Mumbai\",\n",
    "        \"This document is about Kashmir\"\n",
    "    ],\n",
    "    ids=[\"id1\", \"id2\",\"id3\",\"id4\"],\n",
    "    metadatas=[\n",
    "        {\"url\": \"https://en.wikipedia.org/wiki/China\"},\n",
    "        {\"url\": \"https://en.wikipedia.org/wiki/New_Delhi\"},\n",
    "        {\"url\": \"https://en.wikipedia.org/wiki/Mumbai\"},\n",
    "        {\"url\": \"https://en.wikipedia.org/wiki/Kashmir\"}\n",
    "    ]\n",
    ")"
   ]
  },
  {
   "cell_type": "code",
   "execution_count": 25,
   "metadata": {},
   "outputs": [
    {
     "data": {
      "text/plain": [
       "{'ids': [['id2', 'id3', 'id4']],\n",
       " 'distances': [[1.0586315393447876, 1.116418480873108, 1.37934148311615]],\n",
       " 'metadatas': [[{'url': 'https://en.wikipedia.org/wiki/New_Delhi'},\n",
       "   {'url': 'https://en.wikipedia.org/wiki/Mumbai'},\n",
       "   {'url': 'https://en.wikipedia.org/wiki/Kashmir'}]],\n",
       " 'embeddings': None,\n",
       " 'documents': [['This document is about Delhi',\n",
       "   'This document is about Mumbai',\n",
       "   'This document is about Kashmir']],\n",
       " 'uris': None,\n",
       " 'data': None,\n",
       " 'included': ['metadatas', 'documents', 'distances']}"
      ]
     },
     "execution_count": 25,
     "metadata": {},
     "output_type": "execute_result"
    }
   ],
   "source": [
    "\"\"\"\n",
    "The India Gate is a war memorial located near the Rajpath on the eastern edge of \n",
    "the \"ceremonial axis\" of New Delhi.\n",
    "\"\"\"\n",
    "results = collection.query(\n",
    "    query_texts=[\"Query is about India Gate\"],\n",
    "    n_results=3\n",
    ")\n",
    "results"
   ]
  },
  {
   "cell_type": "code",
   "execution_count": 15,
   "metadata": {},
   "outputs": [
    {
     "data": {
      "text/plain": [
       "{'ids': [['id3', 'id2', 'id4']],\n",
       " 'distances': [[1.1330852508544922, 1.2726013660430908, 1.3382842540740967]],\n",
       " 'metadatas': [[{'url': 'https://en.wikipedia.org/wiki/Mumbai'},\n",
       "   {'url': 'https://en.wikipedia.org/wiki/New_Delhi'},\n",
       "   {'url': 'https://en.wikipedia.org/wiki/Kashmir'}]],\n",
       " 'embeddings': None,\n",
       " 'documents': [['This document is about Mumbai',\n",
       "   'This document is about Delhi',\n",
       "   'This document is about Kashmir']],\n",
       " 'uris': None,\n",
       " 'data': None,\n",
       " 'included': ['metadatas', 'documents', 'distances']}"
      ]
     },
     "execution_count": 15,
     "metadata": {},
     "output_type": "execute_result"
    }
   ],
   "source": [
    "results = collection.query(\n",
    "    query_texts=[\"Query is about Taj Mahal Palace Hotel\"],\n",
    "    n_results=3\n",
    ")\n",
    "results"
   ]
  },
  {
   "cell_type": "code",
   "execution_count": 18,
   "metadata": {},
   "outputs": [
    {
     "data": {
      "text/plain": [
       "{'ids': [['id1', 'id2', 'id3']],\n",
       " 'distances': [[1.2125818729400635, 1.362727165222168, 1.3843895196914673]],\n",
       " 'metadatas': [[{'url': 'https://en.wikipedia.org/wiki/China'},\n",
       "   {'url': 'https://en.wikipedia.org/wiki/New_Delhi'},\n",
       "   {'url': 'https://en.wikipedia.org/wiki/Mumbai'}]],\n",
       " 'embeddings': None,\n",
       " 'documents': [['This document is about China',\n",
       "   'This document is about Delhi',\n",
       "   'This document is about Mumbai']],\n",
       " 'uris': None,\n",
       " 'data': None,\n",
       " 'included': ['metadatas', 'documents', 'distances']}"
      ]
     },
     "execution_count": 18,
     "metadata": {},
     "output_type": "execute_result"
    }
   ],
   "source": [
    "\"\"\"\n",
    "Lujiazui is a locality in Shanghai, a peninsula formed by a bend in the Huangpu River. Since the early 1990s\"\"\"\n",
    "results = collection.query(\n",
    "    query_texts=[\"Query is about Lujiazui\"],\n",
    "    n_results=3\n",
    ")\n",
    "results"
   ]
  },
  {
   "cell_type": "code",
   "execution_count": 24,
   "metadata": {},
   "outputs": [
    {
     "data": {
      "text/plain": [
       "{'ids': [['id4', 'id2', 'id1']],\n",
       " 'distances': [[1.16423761844635, 1.2295875549316406, 1.2618935108184814]],\n",
       " 'metadatas': [[{'url': 'https://en.wikipedia.org/wiki/Kashmir'},\n",
       "   {'url': 'https://en.wikipedia.org/wiki/New_Delhi'},\n",
       "   {'url': 'https://en.wikipedia.org/wiki/China'}]],\n",
       " 'embeddings': None,\n",
       " 'documents': [['This document is about Kashmir',\n",
       "   'This document is about Delhi',\n",
       "   'This document is about China']],\n",
       " 'uris': None,\n",
       " 'data': None,\n",
       " 'included': ['metadatas', 'documents', 'distances']}"
      ]
     },
     "execution_count": 24,
     "metadata": {},
     "output_type": "execute_result"
    }
   ],
   "source": [
    "\"\"\"\n",
    "The Great Himalayas is the highest mountain range of the Himalayan Range. The world's \n",
    "highest peak, Mount Everest, as well as other \"near−highest\" peaks.\n",
    "\"\"\"\n",
    "results = collection.query(\n",
    "    query_texts=[\"Query is about Great Himalayas\"],\n",
    "    n_results=3\n",
    ")\n",
    "results"
   ]
  },
  {
   "cell_type": "code",
   "execution_count": null,
   "metadata": {},
   "outputs": [],
   "source": []
  }
 ],
 "metadata": {
  "kernelspec": {
   "display_name": "RAG",
   "language": "python",
   "name": "python3"
  },
  "language_info": {
   "codemirror_mode": {
    "name": "ipython",
    "version": 3
   },
   "file_extension": ".py",
   "mimetype": "text/x-python",
   "name": "python",
   "nbconvert_exporter": "python",
   "pygments_lexer": "ipython3",
   "version": "3.10.12"
  }
 },
 "nbformat": 4,
 "nbformat_minor": 2
}
